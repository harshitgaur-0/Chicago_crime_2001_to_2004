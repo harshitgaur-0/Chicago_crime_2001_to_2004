{
 "cells": [
  {
   "cell_type": "code",
   "execution_count": 1,
   "metadata": {},
   "outputs": [
    {
     "name": "stderr",
     "output_type": "stream",
     "text": [
      "b'Skipping line 1513591: expected 23 fields, saw 24\\n'\n",
      "C:\\Users\\harsh\\Anaconda3\\lib\\site-packages\\IPython\\core\\interactiveshell.py:3145: DtypeWarning: Columns (17,20) have mixed types.Specify dtype option on import or set low_memory=False.\n",
      "  has_raised = await self.run_ast_nodes(code_ast.body, cell_name,\n"
     ]
    }
   ],
   "source": [
    "import pandas as pd\n",
    "df_2001_to_2004= pd.read_csv(\"Chicago_Crimes_2001_to_2004.csv\",error_bad_lines=False)\n"
   ]
  },
  {
   "cell_type": "code",
   "execution_count": 2,
   "metadata": {},
   "outputs": [],
   "source": [
    "df_2001_to_2004.drop(\"Unnamed: 0\",axis=1,inplace=True)\n",
    "\n"
   ]
  },
  {
   "cell_type": "code",
   "execution_count": 3,
   "metadata": {},
   "outputs": [
    {
     "name": "stdout",
     "output_type": "stream",
     "text": [
      "<class 'pandas.core.frame.DataFrame'>\n",
      "RangeIndex: 1923515 entries, 0 to 1923514\n",
      "Data columns (total 22 columns):\n",
      " #   Column                Dtype  \n",
      "---  ------                -----  \n",
      " 0   ID                    int64  \n",
      " 1   Case Number           object \n",
      " 2   Date                  object \n",
      " 3   Block                 object \n",
      " 4   IUCR                  object \n",
      " 5   Primary Type          object \n",
      " 6   Description           object \n",
      " 7   Location Description  object \n",
      " 8   Arrest                bool   \n",
      " 9   Domestic              bool   \n",
      " 10  Beat                  int64  \n",
      " 11  District              float64\n",
      " 12  Ward                  float64\n",
      " 13  Community Area        float64\n",
      " 14  FBI Code              object \n",
      " 15  X Coordinate          float64\n",
      " 16  Y Coordinate          object \n",
      " 17  Year                  float64\n",
      " 18  Updated On            object \n",
      " 19  Latitude              object \n",
      " 20  Longitude             float64\n",
      " 21  Location              object \n",
      "dtypes: bool(2), float64(6), int64(2), object(12)\n",
      "memory usage: 297.2+ MB\n"
     ]
    }
   ],
   "source": [
    "df_2001_to_2004.info()"
   ]
  },
  {
   "cell_type": "code",
   "execution_count": 4,
   "metadata": {},
   "outputs": [],
   "source": [
    "df_2001_to_2004.dropna(axis=0,how=\"any\",inplace=True)"
   ]
  },
  {
   "cell_type": "code",
   "execution_count": 5,
   "metadata": {},
   "outputs": [
    {
     "data": {
      "text/html": [
       "<div>\n",
       "<style scoped>\n",
       "    .dataframe tbody tr th:only-of-type {\n",
       "        vertical-align: middle;\n",
       "    }\n",
       "\n",
       "    .dataframe tbody tr th {\n",
       "        vertical-align: top;\n",
       "    }\n",
       "\n",
       "    .dataframe thead th {\n",
       "        text-align: right;\n",
       "    }\n",
       "</style>\n",
       "<table border=\"1\" class=\"dataframe\">\n",
       "  <thead>\n",
       "    <tr style=\"text-align: right;\">\n",
       "      <th></th>\n",
       "      <th>ID</th>\n",
       "      <th>Case Number</th>\n",
       "      <th>Date</th>\n",
       "      <th>Block</th>\n",
       "      <th>IUCR</th>\n",
       "      <th>Primary Type</th>\n",
       "      <th>Description</th>\n",
       "      <th>Location Description</th>\n",
       "      <th>Arrest</th>\n",
       "      <th>Domestic</th>\n",
       "      <th>...</th>\n",
       "      <th>Ward</th>\n",
       "      <th>Community Area</th>\n",
       "      <th>FBI Code</th>\n",
       "      <th>X Coordinate</th>\n",
       "      <th>Y Coordinate</th>\n",
       "      <th>Year</th>\n",
       "      <th>Updated On</th>\n",
       "      <th>Latitude</th>\n",
       "      <th>Longitude</th>\n",
       "      <th>Location</th>\n",
       "    </tr>\n",
       "  </thead>\n",
       "  <tbody>\n",
       "    <tr>\n",
       "      <th>1</th>\n",
       "      <td>4676906</td>\n",
       "      <td>HM278933</td>\n",
       "      <td>03/01/2003 12:00:00 AM</td>\n",
       "      <td>004XX W 42ND PL</td>\n",
       "      <td>2825</td>\n",
       "      <td>OTHER OFFENSE</td>\n",
       "      <td>HARASSMENT BY TELEPHONE</td>\n",
       "      <td>RESIDENCE</td>\n",
       "      <td>False</td>\n",
       "      <td>True</td>\n",
       "      <td>...</td>\n",
       "      <td>11.0</td>\n",
       "      <td>61.0</td>\n",
       "      <td>26</td>\n",
       "      <td>1173974.0</td>\n",
       "      <td>1876757.0</td>\n",
       "      <td>2003.0</td>\n",
       "      <td>04/15/2016 08:55:02 AM</td>\n",
       "      <td>41.817229</td>\n",
       "      <td>-87.637328</td>\n",
       "      <td>(41.817229156, -87.637328162)</td>\n",
       "    </tr>\n",
       "    <tr>\n",
       "      <th>4</th>\n",
       "      <td>4677901</td>\n",
       "      <td>HM275615</td>\n",
       "      <td>05/01/2003 01:00:00 AM</td>\n",
       "      <td>111XX S NORMAL AVE</td>\n",
       "      <td>0841</td>\n",
       "      <td>THEFT</td>\n",
       "      <td>FINANCIAL ID THEFT:$300 &amp;UNDER</td>\n",
       "      <td>RESIDENCE</td>\n",
       "      <td>False</td>\n",
       "      <td>False</td>\n",
       "      <td>...</td>\n",
       "      <td>34.0</td>\n",
       "      <td>49.0</td>\n",
       "      <td>06</td>\n",
       "      <td>1174948.0</td>\n",
       "      <td>1831051.0</td>\n",
       "      <td>2003.0</td>\n",
       "      <td>04/15/2016 08:55:02 AM</td>\n",
       "      <td>41.691785</td>\n",
       "      <td>-87.635116</td>\n",
       "      <td>(41.691784636, -87.635115968)</td>\n",
       "    </tr>\n",
       "    <tr>\n",
       "      <th>6</th>\n",
       "      <td>4791194</td>\n",
       "      <td>HM403711</td>\n",
       "      <td>01/01/2001 11:00:00 AM</td>\n",
       "      <td>114XX S ST LAWRENCE AVE</td>\n",
       "      <td>0266</td>\n",
       "      <td>CRIM SEXUAL ASSAULT</td>\n",
       "      <td>PREDATORY</td>\n",
       "      <td>RESIDENCE</td>\n",
       "      <td>True</td>\n",
       "      <td>True</td>\n",
       "      <td>...</td>\n",
       "      <td>9.0</td>\n",
       "      <td>50.0</td>\n",
       "      <td>02</td>\n",
       "      <td>1182247.0</td>\n",
       "      <td>1829375.0</td>\n",
       "      <td>2001.0</td>\n",
       "      <td>08/29/2006 03:46:28 AM</td>\n",
       "      <td>41.68702</td>\n",
       "      <td>-87.608445</td>\n",
       "      <td>(41.687020002, -87.60844523)</td>\n",
       "    </tr>\n",
       "    <tr>\n",
       "      <th>7</th>\n",
       "      <td>4679521</td>\n",
       "      <td>HM216293</td>\n",
       "      <td>03/15/2003 12:00:00 AM</td>\n",
       "      <td>090XX S RACINE AVE</td>\n",
       "      <td>5007</td>\n",
       "      <td>OTHER OFFENSE</td>\n",
       "      <td>OTHER WEAPONS VIOLATION</td>\n",
       "      <td>RESIDENCE PORCH/HALLWAY</td>\n",
       "      <td>False</td>\n",
       "      <td>False</td>\n",
       "      <td>...</td>\n",
       "      <td>21.0</td>\n",
       "      <td>73.0</td>\n",
       "      <td>26</td>\n",
       "      <td>1169911.0</td>\n",
       "      <td>1844832.0</td>\n",
       "      <td>2003.0</td>\n",
       "      <td>04/15/2016 08:55:02 AM</td>\n",
       "      <td>41.729712</td>\n",
       "      <td>-87.653159</td>\n",
       "      <td>(41.729712374, -87.653158513)</td>\n",
       "    </tr>\n",
       "    <tr>\n",
       "      <th>9</th>\n",
       "      <td>4680124</td>\n",
       "      <td>HM282389</td>\n",
       "      <td>01/01/2003 12:00:00 AM</td>\n",
       "      <td>009XX S SPAULDING AVE</td>\n",
       "      <td>0840</td>\n",
       "      <td>THEFT</td>\n",
       "      <td>FINANCIAL ID THEFT: OVER $300</td>\n",
       "      <td>RESIDENCE</td>\n",
       "      <td>False</td>\n",
       "      <td>False</td>\n",
       "      <td>...</td>\n",
       "      <td>24.0</td>\n",
       "      <td>29.0</td>\n",
       "      <td>06</td>\n",
       "      <td>1154521.0</td>\n",
       "      <td>1895755.0</td>\n",
       "      <td>2003.0</td>\n",
       "      <td>04/15/2016 08:55:02 AM</td>\n",
       "      <td>41.869772</td>\n",
       "      <td>-87.708180</td>\n",
       "      <td>(41.869772159, -87.708180162)</td>\n",
       "    </tr>\n",
       "  </tbody>\n",
       "</table>\n",
       "<p>5 rows × 22 columns</p>\n",
       "</div>"
      ],
      "text/plain": [
       "        ID Case Number                    Date                    Block  IUCR  \\\n",
       "1  4676906    HM278933  03/01/2003 12:00:00 AM          004XX W 42ND PL  2825   \n",
       "4  4677901    HM275615  05/01/2003 01:00:00 AM       111XX S NORMAL AVE  0841   \n",
       "6  4791194    HM403711  01/01/2001 11:00:00 AM  114XX S ST LAWRENCE AVE  0266   \n",
       "7  4679521    HM216293  03/15/2003 12:00:00 AM       090XX S RACINE AVE  5007   \n",
       "9  4680124    HM282389  01/01/2003 12:00:00 AM    009XX S SPAULDING AVE  0840   \n",
       "\n",
       "          Primary Type                     Description  \\\n",
       "1        OTHER OFFENSE         HARASSMENT BY TELEPHONE   \n",
       "4                THEFT  FINANCIAL ID THEFT:$300 &UNDER   \n",
       "6  CRIM SEXUAL ASSAULT                       PREDATORY   \n",
       "7        OTHER OFFENSE         OTHER WEAPONS VIOLATION   \n",
       "9                THEFT   FINANCIAL ID THEFT: OVER $300   \n",
       "\n",
       "      Location Description  Arrest  Domestic  ...  Ward  Community Area  \\\n",
       "1                RESIDENCE   False      True  ...  11.0            61.0   \n",
       "4                RESIDENCE   False     False  ...  34.0            49.0   \n",
       "6                RESIDENCE    True      True  ...   9.0            50.0   \n",
       "7  RESIDENCE PORCH/HALLWAY   False     False  ...  21.0            73.0   \n",
       "9                RESIDENCE   False     False  ...  24.0            29.0   \n",
       "\n",
       "   FBI Code  X Coordinate Y Coordinate    Year              Updated On  \\\n",
       "1        26     1173974.0    1876757.0  2003.0  04/15/2016 08:55:02 AM   \n",
       "4        06     1174948.0    1831051.0  2003.0  04/15/2016 08:55:02 AM   \n",
       "6        02     1182247.0    1829375.0  2001.0  08/29/2006 03:46:28 AM   \n",
       "7        26     1169911.0    1844832.0  2003.0  04/15/2016 08:55:02 AM   \n",
       "9        06     1154521.0    1895755.0  2003.0  04/15/2016 08:55:02 AM   \n",
       "\n",
       "    Latitude  Longitude                       Location  \n",
       "1  41.817229 -87.637328  (41.817229156, -87.637328162)  \n",
       "4  41.691785 -87.635116  (41.691784636, -87.635115968)  \n",
       "6   41.68702 -87.608445   (41.687020002, -87.60844523)  \n",
       "7  41.729712 -87.653159  (41.729712374, -87.653158513)  \n",
       "9  41.869772 -87.708180  (41.869772159, -87.708180162)  \n",
       "\n",
       "[5 rows x 22 columns]"
      ]
     },
     "execution_count": 5,
     "metadata": {},
     "output_type": "execute_result"
    }
   ],
   "source": [
    "df_2001_to_2004.head()"
   ]
  },
  {
   "cell_type": "code",
   "execution_count": 6,
   "metadata": {},
   "outputs": [
    {
     "name": "stdout",
     "output_type": "stream",
     "text": [
      "Location Description\n",
      "STREET                   363340\n",
      "RESIDENCE                208835\n",
      "APARTMENT                100834\n",
      "SIDEWALK                  98011\n",
      "OTHER                     47085\n",
      "                          ...  \n",
      "LAUNDRY ROOM                  1\n",
      "MOTEL                         1\n",
      "PUBLIC GRAMMAR SCHOOL         1\n",
      "PUBLIC HIGH SCHOOL            1\n",
      "CTA PROPERTY                  1\n",
      "Length: 142, dtype: int64\n",
      "\n",
      "\n",
      "\n",
      "\n",
      "Primary Type\n",
      "THEFT                               250532\n",
      "BATTERY                             227312\n",
      "CRIMINAL DAMAGE                     138151\n",
      "NARCOTICS                           131810\n",
      "OTHER OFFENSE                        77302\n",
      "ASSAULT                              75666\n",
      "BURGLARY                             64650\n",
      "MOTOR VEHICLE THEFT                  59615\n",
      "ROBBERY                              43915\n",
      "CRIMINAL TRESPASS                    37200\n",
      "DECEPTIVE PRACTICE                   34512\n",
      "PROSTITUTION                         16386\n",
      "WEAPONS VIOLATION                    10633\n",
      "OFFENSE INVOLVING CHILDREN            7394\n",
      "PUBLIC PEACE VIOLATION                6205\n",
      "SEX OFFENSE                           5137\n",
      "CRIM SEXUAL ASSAULT                   4222\n",
      "LIQUOR LAW VIOLATION                  3085\n",
      "GAMBLING                              2816\n",
      "HOMICIDE                              2524\n",
      "ARSON                                 2286\n",
      "KIDNAPPING                            1667\n",
      "INTERFERENCE WITH PUBLIC OFFICER      1103\n",
      "INTIMIDATION                           893\n",
      "STALKING                               550\n",
      "OBSCENITY                               43\n",
      "PUBLIC INDECENCY                        16\n",
      "OTHER NARCOTIC VIOLATION                12\n",
      "RITUALISM                                4\n",
      "dtype: int64\n"
     ]
    }
   ],
   "source": [
    "print(df_2001_to_2004.value_counts(\"Location Description\"))\n",
    "print()\n",
    "print()\n",
    "print()\n",
    "print()\n",
    "print(df_2001_to_2004.value_counts(\"Primary Type\"))"
   ]
  },
  {
   "cell_type": "code",
   "execution_count": 7,
   "metadata": {},
   "outputs": [],
   "source": [
    "top_5_crime = df_2001_to_2004.value_counts(\"Primary Type\").sort_values(ascending=False).head().to_frame()\n",
    "top_5_crime.columns = [\"count\"]\n",
    "x_axis = list(top_5_crime.index)\n",
    "y_axis = list(top_5_crime[\"count\"])\n"
   ]
  },
  {
   "cell_type": "code",
   "execution_count": 8,
   "metadata": {},
   "outputs": [
    {
     "data": {
      "image/png": "[encoded data removed]",
      "text/plain": [
       "<Figure size 432x288 with 1 Axes>"
      ]
     },
     "metadata": {
      "needs_background": "light"
     },
     "output_type": "display_data"
    }
   ],
   "source": [
    "#Top 5 crime\n",
    "import matplotlib.pyplot as plt\n",
    "plt.barh(x_axis, y_axis)\n",
    "plt.title(\"Top_5_Crime\")\n",
    "plt.xlabel(\"Count\")\n",
    "plt.ylabel(\"Primary Type\")\n",
    "plt.show()"
   ]
  },
  {
   "cell_type": "code",
   "execution_count": 9,
   "metadata": {},
   "outputs": [
    {
     "data": {
      "image/png": "[encoded data removed]",
      "text/plain": [
       "<Figure size 432x288 with 1 Axes>"
      ]
     },
     "metadata": {
      "needs_background": "light"
     },
     "output_type": "display_data"
    }
   ],
   "source": [
    "#Top_5_crime_location\n",
    "Top_5_crime_location = df_2001_to_2004.value_counts(\"Location Description\").sort_values(ascending=False).head().to_frame()\n",
    "Top_5_crime_location.columns = [\"count\"]\n",
    "x_axis = list(Top_5_crime_location.index)\n",
    "y_axis = list(Top_5_crime_location[\"count\"])\n",
    "\n",
    "#plot\n",
    "plt.bar(x_axis,y_axis)\n",
    "plt.title(\"Top_5_crime_location\")\n",
    "plt.xlabel(\"Location\")\n",
    "plt.ylabel(\"count\")\n",
    "plt.show()"
   ]
  },
  {
   "cell_type": "code",
   "execution_count": 10,
   "metadata": {},
   "outputs": [
    {
     "data": {
      "image/png": "[encoded data removed]",
      "text/plain": [
       "<Figure size 432x288 with 1 Axes>"
      ]
     },
     "metadata": {
      "needs_background": "light"
     },
     "output_type": "display_data"
    }
   ],
   "source": [
    "# Number of crimes in 2001 to 2004 year\n",
    "Crime_in_2001_to_2004 = df_2001_to_2004.value_counts(\"Year\").to_frame()\n",
    "Crime_in_2001_to_2004.columns = [\"count\"]\n",
    "x = list(Crime_in_2001_to_2004.index)\n",
    "y = list(Crime_in_2001_to_2004[\"count\"])\n",
    "plt.bar(x,y)\n",
    "plt.xticks([2001,2002,2003,2004])\n",
    "plt.title(\"Number of crimes in 2001 to 2004\")\n",
    "plt.xlabel(\"Year\")\n",
    "plt.ylabel(\"Total Crime\")\n",
    "plt.show()"
   ]
  },
  {
   "cell_type": "code",
   "execution_count": 11,
   "metadata": {},
   "outputs": [],
   "source": [
    "df_2001_to_2004[\"Date\"] = pd.to_datetime(df_2001_to_2004[\"Date\"])\n",
    "df_2001_to_2004[\"Arrest\"] = df_2001_to_2004[\"Arrest\"].astype(\"category\").cat.codes\n",
    "df_2001_to_2004[\"Domestic\"] = df_2001_to_2004[\"Domestic\"].astype(\"category\").cat.codes"
   ]
  },
  {
   "cell_type": "code",
   "execution_count": 12,
   "metadata": {},
   "outputs": [],
   "source": [
    "df_2001_to_2004[\"X Coordinate\"] = df_2001_to_2004[\"X Coordinate\"].astype(\"int\")\n",
    "df_2001_to_2004[\"Y Coordinate\"] = df_2001_to_2004[\"Y Coordinate\"].astype(str).astype(float).astype(int)\n",
    "df_2001_to_2004[\"Year\"] = df_2001_to_2004[\"Year\"].astype(\"int\")\n",
    "df_2001_to_2004[\"Ward\"] = df_2001_to_2004[\"Ward\"].astype(int)\n",
    "df_2001_to_2004[\"Community Area\"] =df_2001_to_2004[\"Community Area\"] .astype(int)\n",
    "df_2001_to_2004[\"Latitude\"] = df_2001_to_2004[\"Latitude\"].astype(str).astype(float)\n"
   ]
  },
  {
   "cell_type": "code",
   "execution_count": 13,
   "metadata": {},
   "outputs": [],
   "source": [
    "from sklearn.preprocessing import LabelEncoder\n",
    "le = LabelEncoder()\n",
    "le.fit(df_2001_to_2004[\"Primary Type\"])\n",
    "df_2001_to_2004[\"Primary Type\"] = le.transform(df_2001_to_2004[\"Primary Type\"])\n",
    "le.fit(df_2001_to_2004[\"Description\"])\n",
    "df_2001_to_2004[\"Description\"] = le.transform(df_2001_to_2004[\"Description\"])\n",
    "le.fit(df_2001_to_2004[\"Location Description\"])\n",
    "df_2001_to_2004[\"Location Description\"] = le.transform(df_2001_to_2004[\"Location Description\"])\n"
   ]
  },
  {
   "cell_type": "code",
   "execution_count": 14,
   "metadata": {},
   "outputs": [],
   "source": [
    "# beraking date column\n",
    "df_2001_to_2004[\"Month\"] = df_2001_to_2004[\"Date\"].dt.month\n",
    "df_2001_to_2004[\"Hour\"] = df_2001_to_2004[\"Date\"].dt.hour\n"
   ]
  },
  {
   "cell_type": "code",
   "execution_count": 15,
   "metadata": {},
   "outputs": [
    {
     "name": "stdout",
     "output_type": "stream",
     "text": [
      "<class 'pandas.core.frame.DataFrame'>\n",
      "Int64Index: 1205641 entries, 1 to 1923514\n",
      "Data columns (total 24 columns):\n",
      " #   Column                Non-Null Count    Dtype         \n",
      "---  ------                --------------    -----         \n",
      " 0   ID                    1205641 non-null  int64         \n",
      " 1   Case Number           1205641 non-null  object        \n",
      " 2   Date                  1205641 non-null  datetime64[ns]\n",
      " 3   Block                 1205641 non-null  object        \n",
      " 4   IUCR                  1205641 non-null  object        \n",
      " 5   Primary Type          1205641 non-null  int32         \n",
      " 6   Description           1205641 non-null  int32         \n",
      " 7   Location Description  1205641 non-null  int32         \n",
      " 8   Arrest                1205641 non-null  int8          \n",
      " 9   Domestic              1205641 non-null  int8          \n",
      " 10  Beat                  1205641 non-null  int64         \n",
      " 11  District              1205641 non-null  float64       \n",
      " 12  Ward                  1205641 non-null  int32         \n",
      " 13  Community Area        1205641 non-null  int32         \n",
      " 14  FBI Code              1205641 non-null  object        \n",
      " 15  X Coordinate          1205641 non-null  int32         \n",
      " 16  Y Coordinate          1205641 non-null  int32         \n",
      " 17  Year                  1205641 non-null  int32         \n",
      " 18  Updated On            1205641 non-null  object        \n",
      " 19  Latitude              1205641 non-null  float64       \n",
      " 20  Longitude             1205641 non-null  float64       \n",
      " 21  Location              1205641 non-null  object        \n",
      " 22  Month                 1205641 non-null  int64         \n",
      " 23  Hour                  1205641 non-null  int64         \n",
      "dtypes: datetime64[ns](1), float64(3), int32(8), int64(4), int8(2), object(6)\n",
      "memory usage: 177.1+ MB\n"
     ]
    }
   ],
   "source": [
    "df_2001_to_2004.info()"
   ]
  },
  {
   "cell_type": "code",
   "execution_count": null,
   "metadata": {},
   "outputs": [],
   "source": [
    "#Prediction Location of Crime scenes"
   ]
  },
  {
   "cell_type": "code",
   "execution_count": 16,
   "metadata": {},
   "outputs": [],
   "source": [
    "Features = df_2001_to_2004[[\"Primary Type\",\"Description\",\"Location Description\",\"Arrest\",\"Domestic\",\"Beat\",\"District\",\"Ward\",\"Community Area\",\"X Coordinate\",\"Y Coordinate\",\"Year\",\"Month\",\"Hour\"]].values\n",
    "Label = df_2001_to_2004[[\"Latitude\",\"Longitude\"]].values"
   ]
  },
  {
   "cell_type": "code",
   "execution_count": 17,
   "metadata": {},
   "outputs": [],
   "source": [
    "from sklearn.model_selection import train_test_split\n",
    "X_Train, Test_X, Y_Train, Test_Y = train_test_split(Features,Label,train_size=0.8,random_state=7)"
   ]
  },
  {
   "cell_type": "code",
   "execution_count": 18,
   "metadata": {},
   "outputs": [],
   "source": [
    "from sklearn.preprocessing import StandardScaler"
   ]
  },
  {
   "cell_type": "code",
   "execution_count": 27,
   "metadata": {},
   "outputs": [],
   "source": [
    "scaler = StandardScaler()\n",
    "scaler.fit(X_Train)\n",
    "X_Train = scaler.transform(X_Train)\n",
    "scaler.fit(Test_X)\n",
    "Test_X = scaler.transform(Test_X)\n",
    "scaler.fit(Y_Train)\n",
    "Y_Train = scaler.transform(Y_Train)\n",
    "scaler.fit(Test_Y)\n",
    "Test_Y = scaler.transform(Test_Y)"
   ]
  },
  {
   "cell_type": "code",
   "execution_count": 46,
   "metadata": {},
   "outputs": [
    {
     "data": {
      "text/plain": [
       "LinearRegression()"
      ]
     },
     "execution_count": 46,
     "metadata": {},
     "output_type": "execute_result"
    }
   ],
   "source": [
    "# Using Regression\n",
    "from sklearn.linear_model import LinearRegression\n",
    "model=LinearRegression()\n",
    "model.fit(X_Train, Y_Train)"
   ]
  },
  {
   "cell_type": "code",
   "execution_count": 47,
   "metadata": {},
   "outputs": [
    {
     "name": "stdout",
     "output_type": "stream",
     "text": [
      "Coefficients: \n",
      " [[-1.31232375e-06 -5.08658844e-06  1.69685597e-05  1.07335851e-05\n",
      "   1.27050160e-06 -2.50332173e-05  6.77627448e-05 -1.22627958e-05\n",
      "   3.38996480e-05 -3.83992824e-03  9.97866343e-01  3.32221209e-07\n",
      "   7.70740743e-07  6.33170310e-09]\n",
      " [ 3.82834839e-05 -5.34143474e-06  2.26425245e-05  4.99997999e-05\n",
      "  -3.81198778e-05  1.55940400e-04 -1.36458188e-04 -1.18274502e-05\n",
      "   3.53200171e-04  1.00855934e+00  1.57206695e-02  5.13702987e-08\n",
      "   2.15683102e-06 -8.97337426e-06]]\n"
     ]
    }
   ],
   "source": [
    "y_pred = model.predict(Test_X)\n",
    "print('Coefficients: \\n', model.coef_)"
   ]
  },
  {
   "cell_type": "code",
   "execution_count": 38,
   "metadata": {},
   "outputs": [
    {
     "name": "stdout",
     "output_type": "stream",
     "text": [
      "Mean squared error: 0.00\n"
     ]
    }
   ],
   "source": [
    "# The mean squared error\n",
    "import numpy as np\n",
    "print(\"Mean squared error: %.2f\" % np.mean((y_pred - Test_Y) ** 2))"
   ]
  },
  {
   "cell_type": "code",
   "execution_count": 48,
   "metadata": {},
   "outputs": [
    {
     "name": "stdout",
     "output_type": "stream",
     "text": [
      "Model has variance of 0.9999992252718028\n"
     ]
    }
   ],
   "source": [
    "#variance\n",
    "print(\"Model has variance of {}\".format(model.score(Test_X,Test_Y)))"
   ]
  },
  {
   "cell_type": "code",
   "execution_count": 40,
   "metadata": {},
   "outputs": [],
   "source": [
    "from sklearn.ensemble import RandomForestRegressor"
   ]
  },
  {
   "cell_type": "code",
   "execution_count": 43,
   "metadata": {},
   "outputs": [
    {
     "name": "stdout",
     "output_type": "stream",
     "text": [
      "Mean squared error: 0.00\n",
      "Model has variance of 0.9999803512401548\n"
     ]
    }
   ],
   "source": [
    "rf = RandomForestRegressor(n_estimators=15,max_depth=None,n_jobs=-1)\n",
    "model = rf.fit(X_Train,Y_Train)\n",
    "y_pred = model.predict(Test_X)\n",
    "# The mean squared error\n",
    "import numpy as np\n",
    "print(\"Mean squared error: %.2f\" % np.mean((y_pred - Test_Y) ** 2))\n",
    "#variance\n",
    "print(\"Model has variance of {}\".format(model.score(Test_X,Test_Y)))"
   ]
  },
  {
   "cell_type": "code",
   "execution_count": null,
   "metadata": {},
   "outputs": [],
   "source": [
    "\n"
   ]
  },
  {
   "cell_type": "code",
   "execution_count": null,
   "metadata": {},
   "outputs": [],
   "source": []
  }
 ],
 "metadata": {
  "kernelspec": {
   "display_name": "Python 3",
   "language": "python",
   "name": "python3"
  },
  "language_info": {
   "codemirror_mode": {
    "name": "ipython",
    "version": 3
   },
   "file_extension": ".py",
   "mimetype": "text/x-python",
   "name": "python",
   "nbconvert_exporter": "python",
   "pygments_lexer": "ipython3",
   "version": "3.8.5"
  }
 },
 "nbformat": 4,
 "nbformat_minor": 4
}
